{
 "cells": [
  {
   "cell_type": "code",
   "execution_count": 1,
   "metadata": {},
   "outputs": [],
   "source": [
    "#Import some libraries\n",
    "import numpy as np\n",
    "import pandas as pd\n",
    "# from thermoModel import *\n",
    "from generateThermocline import generateThermocline\n",
    "from maxDepth import maxDepth\n",
    "from julianToNormal import jd_to_date\n",
    "import matplotlib.pyplot as plt\n",
    "from Net import Net\n",
    "from global_land_mask import globe\n",
    "import os\n",
    "import xarray\n",
    "import torch\n",
    "import geopandas as gpd\n",
    "import geodatasets"
   ]
  },
  {
   "cell_type": "code",
   "execution_count": 13,
   "metadata": {},
   "outputs": [],
   "source": [
    "# setup global variables\n",
    "latRange = [45,90]                # range of world latitudes (degrees)\n",
    "longRange = [-45,180]             # range of world longitudes (degrees)\n",
    "# dateRange = [2455562.5, 2455927.5]  # range of dates (julian time/days)\n",
    "dateRange = [2455207, 2455207+380]\n",
    "\n",
    "areaIncr = 500        # world area grid (degrees)\n",
    "depthIncr = 1       # depth increment (meter)\n",
    "dateIncr = 14        # date increment (days)\n",
    "tempCutoff = 1      # thermocline temperature cutoff (K or degC)\n",
    "\n",
    "latArray = np.arange(latRange[0], latRange[1], areaIncr)\n",
    "longArray = np.arange(longRange[0], longRange[1], areaIncr)\n",
    "dateArray = np.arange(dateRange[0], dateRange[1], dateIncr)"
   ]
  },
  {
   "cell_type": "code",
   "execution_count": 14,
   "metadata": {},
   "outputs": [],
   "source": [
    "def generateThermoclineActual(df, lat, long, thermoActualPath):\n",
    "    err = 1\n",
    "    filtered_df = df.loc[(df['Latitude'].between(lat - err, lat + err)) \n",
    "            & (df['Longitude'].between(long - err, long + err)), ['Depth', 'Temperature']]\n",
    "    # not enough data to filter by time as well\n",
    "    sorted_df = filtered_df.sort_values(by=['Depth'])\n",
    "    \n",
    "    fig, ax = plt.subplots()\n",
    "    ax.plot(sorted_df[\"Temperature\"], sorted_df[\"Depth\"])  \n",
    "    ax.set_xlabel('Temperature ($^\\circ$C)')\n",
    "    ax.set_ylabel('Depth (m)')\n",
    "    ax.set_title(f'Thermocline Actual for Lat: {lat:,.1f} Long: {long:,.1f}')\n",
    "    ax.invert_yaxis()\n",
    "    plt.savefig(f'{thermoActualPath}/ThermoclineActual_{lat:,.1f}_{long:,.1f}.png')\n",
    "    plt.close('all')\n",
    "\n",
    "    return sorted_df"
   ]
  },
  {
   "cell_type": "code",
   "execution_count": 15,
   "metadata": {},
   "outputs": [],
   "source": [
    "def generateSurfaceTempActualMap(plotDf, surfaceTempActualPath, date):\n",
    "    plotColor = \"lightgrey\"\n",
    "    opacity = 0.3\n",
    "    worldmap = gpd.read_file(geodatasets.get_path(\"naturalearth.land\"))\n",
    "\n",
    "    # Creating axes and plotting world map\n",
    "    fig, ax = plt.subplots(figsize=(12, 6))\n",
    "    worldmap.plot(color=plotColor, ax=ax)\n",
    "\n",
    "    # Plotting our Impact Energy data with a color map\n",
    "    x = plotDf['Longitude']\n",
    "    y = plotDf['Latitude']\n",
    "    z = plotDf['Surface_Temp_Actual']\n",
    "    plt.scatter(x, y, c=z, alpha=opacity, marker=\".\")\n",
    "    plt.colorbar(label='Actual Surface Temp ($^\\circ$C)')\n",
    "    plt.title(\"Global Actual Surface Temperature Map\")\n",
    "    plt.xlabel(\"Longitude ($^\\circ$)\")\n",
    "    plt.ylabel(\"Latitude ($^\\circ$)\")\n",
    "\n",
    "    year,month,day = jd_to_date(date)\n",
    "    plt.savefig(f'{surfaceTempActualPath}/SurfaceTempActual_{int(month)}-{int(day)}-{str(int(year))[2:]}.png')\n",
    "    plt.close('all')\n"
   ]
  },
  {
   "cell_type": "code",
   "execution_count": 2,
   "metadata": {},
   "outputs": [
    {
     "name": "stdout",
     "output_type": "stream",
     "text": [
      "Importing training data....\n",
      "Creating directories....\n",
      "Importing model....\n"
     ]
    },
    {
     "data": {
      "text/plain": [
       "Net(\n",
       "  (fc1): Linear(in_features=4, out_features=100, bias=True)\n",
       "  (fc2): Linear(in_features=100, out_features=100, bias=True)\n",
       "  (fc3): Linear(in_features=100, out_features=100, bias=True)\n",
       "  (fc4): Linear(in_features=100, out_features=100, bias=True)\n",
       "  (fc5): Linear(in_features=100, out_features=100, bias=True)\n",
       "  (fc6): Linear(in_features=100, out_features=1, bias=True)\n",
       ")"
      ]
     },
     "execution_count": 2,
     "metadata": {},
     "output_type": "execute_result"
    }
   ],
   "source": [
    "# import training dataset for depth checking\n",
    "print(\"Importing training data....\")\n",
    "train_dataset = \"practiceData3Years.nc\"\n",
    "ds = xarray.open_dataset(train_dataset)\n",
    "df = ds.to_dataframe()\n",
    "\n",
    "# create results directories if it doesn't exist\n",
    "print(\"Creating directories....\")\n",
    "resultsPath = \"ResultsTest\"\n",
    "thermoPath = resultsPath + \"/ThermoclinePlots\"\n",
    "thermoActualPath = resultsPath + \"/ThermoclineActualPlots\"\n",
    "surfaceTempActualPath = resultsPath + \"/SurfaceTempActualMaps\"\n",
    "if not os.path.exists(resultsPath):\n",
    "    os.makedirs(resultsPath)\n",
    "    os.makedirs(thermoPath)\n",
    "    os.makedirs(thermoActualPath)\n",
    "    os.makedirs(surfaceTempActualPath)\n",
    "    print(\"Directories Created Successfully\")\n",
    "\n",
    "# import ML model\n",
    "print(\"Importing model....\")\n",
    "modelPath = \"OTEC_miniBatchState.pth\"\n",
    "net = Net()\n",
    "net.load_state_dict(torch.load(modelPath))\n",
    "net.eval()"
   ]
  },
  {
   "cell_type": "code",
   "execution_count": 17,
   "metadata": {},
   "outputs": [],
   "source": [
    "# seasonal thermocline study ** test in actual model\n",
    "err = 1\n",
    "latBetween = df['Latitude'].between(45 - err, 45 + err)\n",
    "longBetween = df['Longitude'].between(-45 - err, -45 + err)\n",
    "filtered_df = df.loc[latBetween & longBetween]\n",
    "\n",
    "sorted_df = filtered_df.sort_values(by=['Julian_Time'])\n",
    "# sorted_df['Julian_Time'].unique()\n",
    "\n",
    "coldDf = sorted_df.loc[sorted_df['Julian_Time'].between(2455207, 2455207+7)] # plot #1\n",
    "year,month,day=jd_to_date(2455207)\n",
    "fig, ax = plt.subplots()\n",
    "ax.plot(coldDf['Temperature'], coldDf[\"Depth\"], marker = '.', linestyle = 'None')  \n",
    "ax.set_xlabel('Temperature ($^\\circ$C)')\n",
    "ax.set_ylabel('Depth (m)')\n",
    "ax.set_title(f'Thermocline for Lat: {45:,.1f} Long: {-45:,.1f} Date: {int(month)}-{int(day)}-{str(int(year))[2:]}')\n",
    "ax.invert_yaxis()\n",
    "plt.savefig(f'Thermocline_{45:,.1f}_{-45:,.1f}_{int(month)}-{int(day)}-{str(int(year))[2:]}.png')\n",
    "plt.close('all')\n",
    "\n",
    "hotDf = sorted_df.loc[sorted_df['Julian_Time'].between(2455419, 2455419 + 7)] # plot #1\n",
    "year,month,day=jd_to_date(2455419)\n",
    "fig, ax = plt.subplots()\n",
    "ax.plot(hotDf['Temperature'], hotDf[\"Depth\"], marker = '.', linestyle = 'None')  \n",
    "ax.set_xlabel('Temperature ($^\\circ$C)')\n",
    "ax.set_ylabel('Depth (m)')\n",
    "ax.set_title(f'Thermocline for Lat: {45:,.1f} Long: {-45:,.1f} Date: {int(month)}-{int(day)}-{str(int(year))[2:]}')\n",
    "ax.invert_yaxis()\n",
    "plt.savefig(f'Thermocline_{45:,.1f}_{-45:,.1f}_{int(month)}-{int(day)}-{str(int(year))[2:]}.png')\n",
    "plt.close('all')\n",
    "# sorted_df.loc[sorted_df['Julian_Time'].between(2455562.5+14 - 1, 2455562.5+14 + 1)]\n",
    "# sorted_df.loc[sorted_df['Julian_Time'].between(2455562.5+14 - 1, 2455562.5+14 + 1)]\n",
    "# sorted_df.max()['Julian_Time']\n",
    "# sorted_df.min()['Julian_Time']\n",
    "# sorted_df['Julian_Time'].between(2455207.41+14*15 - 14, 2455207.41+14*15 + 14)"
   ]
  },
  {
   "cell_type": "code",
   "execution_count": 18,
   "metadata": {},
   "outputs": [],
   "source": [
    "# has to be defined here doesn't work if imported for some reason\n",
    "def minDepthTemperature(df, lat, long, areaIncr):    \n",
    "    i = 0.5\n",
    "    err = areaIncr*i\n",
    "    latBetween = df['Latitude'].between(lat - err, lat + err)\n",
    "    longBetween = df['Longitude'].between(long - err, long + err)\n",
    "    filtered_df = df.loc[latBetween & longBetween,['Depth', 'Temperature']]\n",
    "    if filtered_df.empty:\n",
    "        return -1\n",
    "    sorted_df = filtered_df.sort_values(by=['Depth'])\n",
    "    print(len(sorted_df))\n",
    "\n",
    "    return float(sorted_df['Temperature'].iloc[0])\n"
   ]
  },
  {
   "cell_type": "code",
   "execution_count": 19,
   "metadata": {},
   "outputs": [
    {
     "name": "stdout",
     "output_type": "stream",
     "text": [
      "Entering main loop....\n",
      "Initializing plots dataframe for 2455207.0....\n",
      "Generating data for 2455207.0....\n",
      "Generating thermoclines for 45.0_-45.0_2455207.0....\n",
      "Initializing plots dataframe for 2455221.0....\n",
      "Generating data for 2455221.0....\n",
      "Generating thermoclines for 45.0_-45.0_2455221.0....\n",
      "Initializing plots dataframe for 2455235.0....\n",
      "Generating data for 2455235.0....\n",
      "Generating thermoclines for 45.0_-45.0_2455235.0....\n",
      "Initializing plots dataframe for 2455249.0....\n",
      "Generating data for 2455249.0....\n",
      "Generating thermoclines for 45.0_-45.0_2455249.0....\n",
      "Initializing plots dataframe for 2455263.0....\n",
      "Generating data for 2455263.0....\n",
      "Generating thermoclines for 45.0_-45.0_2455263.0....\n",
      "Initializing plots dataframe for 2455277.0....\n",
      "Generating data for 2455277.0....\n",
      "Generating thermoclines for 45.0_-45.0_2455277.0....\n",
      "Initializing plots dataframe for 2455291.0....\n",
      "Generating data for 2455291.0....\n",
      "Generating thermoclines for 45.0_-45.0_2455291.0....\n",
      "Initializing plots dataframe for 2455305.0....\n",
      "Generating data for 2455305.0....\n",
      "Generating thermoclines for 45.0_-45.0_2455305.0....\n",
      "Initializing plots dataframe for 2455319.0....\n",
      "Generating data for 2455319.0....\n",
      "Generating thermoclines for 45.0_-45.0_2455319.0....\n",
      "Initializing plots dataframe for 2455333.0....\n",
      "Generating data for 2455333.0....\n",
      "Generating thermoclines for 45.0_-45.0_2455333.0....\n",
      "Initializing plots dataframe for 2455347.0....\n",
      "Generating data for 2455347.0....\n",
      "Generating thermoclines for 45.0_-45.0_2455347.0....\n",
      "Initializing plots dataframe for 2455361.0....\n",
      "Generating data for 2455361.0....\n",
      "Generating thermoclines for 45.0_-45.0_2455361.0....\n",
      "Initializing plots dataframe for 2455375.0....\n",
      "Generating data for 2455375.0....\n",
      "Generating thermoclines for 45.0_-45.0_2455375.0....\n",
      "Initializing plots dataframe for 2455389.0....\n",
      "Generating data for 2455389.0....\n",
      "Generating thermoclines for 45.0_-45.0_2455389.0....\n",
      "Initializing plots dataframe for 2455403.0....\n",
      "Generating data for 2455403.0....\n",
      "Generating thermoclines for 45.0_-45.0_2455403.0....\n",
      "Initializing plots dataframe for 2455417.0....\n",
      "Generating data for 2455417.0....\n",
      "Generating thermoclines for 45.0_-45.0_2455417.0....\n",
      "Initializing plots dataframe for 2455431.0....\n",
      "Generating data for 2455431.0....\n",
      "Generating thermoclines for 45.0_-45.0_2455431.0....\n",
      "Initializing plots dataframe for 2455445.0....\n",
      "Generating data for 2455445.0....\n",
      "Generating thermoclines for 45.0_-45.0_2455445.0....\n",
      "Initializing plots dataframe for 2455459.0....\n",
      "Generating data for 2455459.0....\n",
      "Generating thermoclines for 45.0_-45.0_2455459.0....\n",
      "Initializing plots dataframe for 2455473.0....\n",
      "Generating data for 2455473.0....\n",
      "Generating thermoclines for 45.0_-45.0_2455473.0....\n",
      "Initializing plots dataframe for 2455487.0....\n",
      "Generating data for 2455487.0....\n",
      "Generating thermoclines for 45.0_-45.0_2455487.0....\n",
      "Initializing plots dataframe for 2455501.0....\n",
      "Generating data for 2455501.0....\n",
      "Generating thermoclines for 45.0_-45.0_2455501.0....\n",
      "Initializing plots dataframe for 2455515.0....\n",
      "Generating data for 2455515.0....\n",
      "Generating thermoclines for 45.0_-45.0_2455515.0....\n",
      "Initializing plots dataframe for 2455529.0....\n",
      "Generating data for 2455529.0....\n",
      "Generating thermoclines for 45.0_-45.0_2455529.0....\n",
      "Initializing plots dataframe for 2455543.0....\n",
      "Generating data for 2455543.0....\n",
      "Generating thermoclines for 45.0_-45.0_2455543.0....\n",
      "Initializing plots dataframe for 2455557.0....\n",
      "Generating data for 2455557.0....\n",
      "Generating thermoclines for 45.0_-45.0_2455557.0....\n",
      "Initializing plots dataframe for 2455571.0....\n",
      "Generating data for 2455571.0....\n",
      "Generating thermoclines for 45.0_-45.0_2455571.0....\n",
      "Initializing plots dataframe for 2455585.0....\n",
      "Generating data for 2455585.0....\n",
      "Generating thermoclines for 45.0_-45.0_2455585.0....\n"
     ]
    }
   ],
   "source": [
    "# TODO CHECK IF SURFACE TEMP MAP GENERATION WORKS AND IF VALUES ARE RIGHT ** START HERE -> RUN THIS \n",
    "\n",
    "# main for loop to generate thermocline and get exergy for each time\n",
    "print(\"Entering main loop....\") \n",
    "for date in dateArray:\n",
    "    # generate new dataframe for storing plotting variables worldwide for each new date\n",
    "    print(f\"Initializing plots dataframe for {date:.1f}....\")\n",
    "    plotDf = pd.DataFrame(columns = ['Latitude', 'Longitude', 'Surface_Temp_Actual'])\n",
    "    \n",
    "    # generate data for each location \n",
    "    print(f\"Generating data for {date:.1f}....\")\n",
    "    for lat in latArray:\n",
    "        for long in longArray:\n",
    "            \n",
    "            # land mask\n",
    "            if not globe.is_land(lat, long):\n",
    "                # get maximum depth of location from database\n",
    "                maxDep = maxDepth(df, lat, long, areaIncr) \n",
    "\n",
    "                # generate thermocline for location using ML model\n",
    "                print(f\"Generating thermoclines for {lat:.1f}_{long:.1f}_{date:.1f}....\") \n",
    "                tempDf = generateThermocline(lat, long, date, maxDep, depthIncr, net, thermoPath, True)\n",
    "                tempDfActual = generateThermoclineActual(df, lat, long, thermoActualPath)\n",
    "\n",
    "                # add data to plotting dataframe\n",
    "                # print(lat, long)\n",
    "                # plotDf = plotDf._append({'Latitude' : lat, \n",
    "                #                         'Longitude' : long, \n",
    "                #                         'Surface_Temp_Actual': minDepthTemperature(df, lat, long, areaIncr)}, ignore_index = True)\n",
    "    \n",
    "    # generateSurfaceTempActualMap(plotDf, surfaceTempActualPath, date)"
   ]
  },
  {
   "cell_type": "code",
   "execution_count": null,
   "metadata": {},
   "outputs": [],
   "source": [
    "# CONTOUR MAP TESTING BELOW"
   ]
  },
  {
   "cell_type": "code",
   "execution_count": 38,
   "metadata": {},
   "outputs": [],
   "source": [
    "# Implementation of matplotlib function\n",
    "import numpy as np\n",
    "import matplotlib.pyplot as plt\n",
    "from numpy import ma\n",
    "from matplotlib import ticker, cm\n",
    "\n",
    "N = 1000\n",
    "x = np.linspace(-6.0, 6.0, N)\n",
    "y = np.linspace(-7.0, 7.0, N)\n",
    "X, Y = np.meshgrid(x, y)\n",
    "\n",
    "Z1 = np.exp(-(X)**2 - (Y)**2)\n",
    "z = 50 * Z1\n",
    "z[:5, :5] = -1\n",
    "z = ma.masked_where(z <= 0, z)\n",
    "\n",
    "worldmap = gpd.read_file(geodatasets.get_path(\"naturalearth.land\"))\n",
    "\n",
    "# Creating axes and plotting world map\n",
    "fig, ax = plt.subplots(figsize=(12, 6))\n",
    "worldmap.plot(color='lightgrey', ax=ax)\n",
    "\n",
    "# fig, ax = plt.subplots()\n",
    "cs = ax.contourf(X, Y, z, locator = ticker.LogLocator(),\n",
    "\t\t\t\tcmap =\"Greens\")\n",
    "\n",
    "cbar = fig.colorbar(cs)\n",
    "ax.set_title('matplotlib.axes.Axes.contourf() Example')\n",
    "\n",
    "plt.show()"
   ]
  },
  {
   "cell_type": "code",
   "execution_count": 43,
   "metadata": {},
   "outputs": [],
   "source": [
    "#Import some libraries\n",
    "import numpy as np\n",
    "import pandas as pd\n",
    "# from thermoModel import *\n",
    "from generateThermocline import generateThermocline\n",
    "from maxDepth import maxDepth\n",
    "from julianToNormal import jd_to_date\n",
    "import matplotlib.pyplot as plt\n",
    "from Net import Net\n",
    "from global_land_mask import globe\n",
    "import os\n",
    "import xarray\n",
    "import torch\n",
    "import geopandas as gpd\n",
    "import geodatasets"
   ]
  },
  {
   "cell_type": "code",
   "execution_count": 122,
   "metadata": {},
   "outputs": [
    {
     "data": {
      "image/png": "[encoded data removed]",
      "text/plain": [
       "<Figure size 1200x600 with 2 Axes>"
      ]
     },
     "metadata": {},
     "output_type": "display_data"
    }
   ],
   "source": [
    "# PLOTTING STRUCTURE IS COMPLETE (ALSO WITH ADDITIONAL FEATURES) JUST NEED TO PLOT FROM DATA\n",
    "# TODO: 1. Convert 1d exergy data to 2d grid/coordinate form to plot on world map (use for loops maybe)\n",
    "#       2. run 1 degree scatter plots on gilbreth (update local branch with cluster changes and push first) **\n",
    "# Issues: 1. data can't be shaped into rectangle or square since not every y has an x, vice versa, investigate\n",
    "#         2. contour plots can't unblend data that is on land? maybe use levels to get rid of land data?\n",
    "#            -> so maybe it's better to use scatter after all since it doesn't plot on land\n",
    "#            -> or manually create lat and long array using areaincr and change the exergy on land to 0 and constraint\n",
    "#               contour map to only display exergy >0\n",
    "areaIncr = 5\n",
    "plotDf = pd.read_csv(\"Extras/Results5/ResultsCSV/Results_1-1-11.csv\")\n",
    "worldmap = gpd.read_file(geodatasets.get_path(\"naturalearth.land\"))\n",
    "\n",
    "# Creating axes and plotting world map\n",
    "fig, ax = plt.subplots(figsize=(12, 6))\n",
    "worldmap.plot(color='lightgrey', ax=ax)\n",
    "\n",
    "colMap = plt.cm.plasma\n",
    "colMap.set_bad(color=\"k\", alpha=1.0)\n",
    "colMap.set_under(color=\"lightgrey\", alpha=1.0)\n",
    "\n",
    "# L_lw = np.linspace(0, 300, 31) # optional to set colorbar bounds\n",
    "\n",
    "lon = np.linspace(-180, 180, int(360*(1/areaIncr)+1))\n",
    "lat = np.linspace(-90, 90, int(180*(1/areaIncr)+1))\n",
    "# lon = plotDf[\"Longitude\"].unique()\n",
    "# lat = plotDf[\"Latitude\"].unique()\n",
    "longitude, latitude = np.meshgrid(lon, lat) \n",
    "# optional to convert 1d arrays to grid form, lon/lat (1D) or longitude/latitude (grid) will work\n",
    "\n",
    "# testing\n",
    "z = longitude + latitude \n",
    "z[0][0] = 220 # testing\n",
    "\n",
    "# cs = ax.contourf(lon, lat, z, L_lw, cmap=colMap, alpha=0.2)\n",
    "cs = ax.contourf(lon, lat, z, cmap=colMap, alpha=0.2)\n",
    "# cbar = fig.colorbar(cs, ax=ax, fraction=0.0178, pad=0.02)\n",
    "cbar = fig.colorbar(cs)\n",
    "ax.set_title(\"Global Exergy Map\")\n",
    "ax.set_xlabel(\"Longitude\")\n",
    "ax.set_ylabel(\"Latitude\")\n",
    "\n",
    "plt.show()\n",
    "# fig.savefig(filename)"
   ]
  },
  {
   "cell_type": "code",
   "execution_count": 16,
   "metadata": {},
   "outputs": [
    {
     "data": {
      "text/plain": [
       "array([-180., -175., -170., -165., -160., -155., -150., -145., -140.,\n",
       "       -135., -130., -125., -120., -115., -110., -105., -100.,  -95.,\n",
       "        -90.,  -85.,  -80.,  -75.,  -70.,  -65.,  -60.,  -55.,  -50.,\n",
       "        -45.,  -40.,  -35.,  -30.,  -25.,  -20.,  -15.,  -10.,   -5.,\n",
       "          0.,    5.,   10.,   15.,   20.,   25.,   30.,   35.,   40.,\n",
       "         45.,   50.,   55.,   60.,   65.,   70.,   75.,   80.,   85.,\n",
       "         90.,   95.,  100.,  105.,  110.,  115.,  120.,  125.,  130.,\n",
       "        135.,  140.,  145.,  150.,  155.,  160.,  165.,  170.,  175.,\n",
       "        180.])"
      ]
     },
     "execution_count": 16,
     "metadata": {},
     "output_type": "execute_result"
    }
   ],
   "source": [
    "lon = np.linspace(-180, 180, int(360*(1/5)+1))\n",
    "lon\n"
   ]
  },
  {
   "cell_type": "code",
   "execution_count": 45,
   "metadata": {},
   "outputs": [],
   "source": [
    "def maxDepthTest(df, lat, long, areaIncr):\n",
    "    i = 0\n",
    "    err = areaIncr*i\n",
    "    latBetween = df['Latitude'].between(lat - err, lat + err)\n",
    "    longBetween = df['Longitude'].between(long - err, long + err)\n",
    "    filtered_df = df.loc[latBetween & longBetween, ['Depth']]\n",
    "    # print(filtered_df)\n",
    "    while filtered_df.empty:\n",
    "        i += 0.25\n",
    "        # print(i)\n",
    "        err = areaIncr*i\n",
    "        latBetween = df['Latitude'].between(lat - err, lat + err)\n",
    "        longBetween = df['Longitude'].between(long - err, long + err)\n",
    "        filtered_df = df.loc[latBetween & longBetween,['Depth']]\n",
    "        # print(filtered_df)\n",
    "        \n",
    "    return int(filtered_df.max()['Depth'])"
   ]
  },
  {
   "cell_type": "code",
   "execution_count": 4,
   "metadata": {},
   "outputs": [
    {
     "name": "stdout",
     "output_type": "stream",
     "text": [
      "False\n",
      "how many GPUs? =  0\n",
      "{'Latitude': [-52], 'Longitude': [40], 'Julian_Time': [2455562.5], 'Depth': [0]}\n"
     ]
    },
    {
     "data": {
      "text/html": [
       "<div>\n",
       "<style scoped>\n",
       "    .dataframe tbody tr th:only-of-type {\n",
       "        vertical-align: middle;\n",
       "    }\n",
       "\n",
       "    .dataframe tbody tr th {\n",
       "        vertical-align: top;\n",
       "    }\n",
       "\n",
       "    .dataframe thead th {\n",
       "        text-align: right;\n",
       "    }\n",
       "</style>\n",
       "<table border=\"1\" class=\"dataframe\">\n",
       "  <thead>\n",
       "    <tr style=\"text-align: right;\">\n",
       "      <th></th>\n",
       "      <th>Depth</th>\n",
       "      <th>Temperature</th>\n",
       "    </tr>\n",
       "  </thead>\n",
       "  <tbody>\n",
       "    <tr>\n",
       "      <th>0</th>\n",
       "      <td>0</td>\n",
       "      <td>3.157983</td>\n",
       "    </tr>\n",
       "  </tbody>\n",
       "</table>\n",
       "</div>"
      ],
      "text/plain": [
       "   Depth  Temperature\n",
       "0      0     3.157983"
      ]
     },
     "execution_count": 4,
     "metadata": {},
     "output_type": "execute_result"
    }
   ],
   "source": [
    "# from generateThermocline import generateThermocline\n",
    "# maxDepth(df,-52,40,1)\n",
    "\n",
    "generateThermocline(-52,40,2455562.5,maxDepth(df,-52,40,1),1,net,\"Results/ThermoclinePlots\", False)\n",
    "# maxDepthTest(df,-52,40,1)"
   ]
  },
  {
   "cell_type": "code",
   "execution_count": 40,
   "metadata": {},
   "outputs": [
    {
     "data": {
      "text/plain": [
       "30.219"
      ]
     },
     "execution_count": 40,
     "metadata": {},
     "output_type": "execute_result"
    }
   ],
   "source": [
    "# z[0][0] = 220\n",
    "# z\n",
    "df.loc[25487635, 'Latitude']\n",
    "# df.loc[25487636, 'Longitude']"
   ]
  },
  {
   "cell_type": "code",
   "execution_count": 116,
   "metadata": {},
   "outputs": [
    {
     "ename": "ValueError",
     "evalue": "cannot reshape array of size 101 into shape (8,18)",
     "output_type": "error",
     "traceback": [
      "\u001b[1;31m---------------------------------------------------------------------------\u001b[0m",
      "\u001b[1;31mValueError\u001b[0m                                Traceback (most recent call last)",
      "Cell \u001b[1;32mIn[116], line 3\u001b[0m\n\u001b[0;32m      1\u001b[0m lon \u001b[39m=\u001b[39m plotDf[\u001b[39m\"\u001b[39m\u001b[39mLongitude\u001b[39m\u001b[39m\"\u001b[39m]\u001b[39m.\u001b[39munique()\n\u001b[0;32m      2\u001b[0m lat \u001b[39m=\u001b[39m plotDf[\u001b[39m\"\u001b[39m\u001b[39mLatitude\u001b[39m\u001b[39m\"\u001b[39m]\u001b[39m.\u001b[39munique()\n\u001b[1;32m----> 3\u001b[0m np\u001b[39m.\u001b[39;49mreshape(plotDf[\u001b[39m\"\u001b[39;49m\u001b[39mExergy\u001b[39;49m\u001b[39m\"\u001b[39;49m], (lat\u001b[39m.\u001b[39;49msize, lon\u001b[39m.\u001b[39;49msize))\n",
      "File \u001b[1;32m<__array_function__ internals>:200\u001b[0m, in \u001b[0;36mreshape\u001b[1;34m(*args, **kwargs)\u001b[0m\n",
      "File \u001b[1;32mc:\\Users\\darre\\AppData\\Local\\Programs\\Python\\Python311\\Lib\\site-packages\\numpy\\core\\fromnumeric.py:298\u001b[0m, in \u001b[0;36mreshape\u001b[1;34m(a, newshape, order)\u001b[0m\n\u001b[0;32m    198\u001b[0m \u001b[39m@array_function_dispatch\u001b[39m(_reshape_dispatcher)\n\u001b[0;32m    199\u001b[0m \u001b[39mdef\u001b[39;00m \u001b[39mreshape\u001b[39m(a, newshape, order\u001b[39m=\u001b[39m\u001b[39m'\u001b[39m\u001b[39mC\u001b[39m\u001b[39m'\u001b[39m):\n\u001b[0;32m    200\u001b[0m \u001b[39m    \u001b[39m\u001b[39m\"\"\"\u001b[39;00m\n\u001b[0;32m    201\u001b[0m \u001b[39m    Gives a new shape to an array without changing its data.\u001b[39;00m\n\u001b[0;32m    202\u001b[0m \n\u001b[1;32m   (...)\u001b[0m\n\u001b[0;32m    296\u001b[0m \u001b[39m           [5, 6]])\u001b[39;00m\n\u001b[0;32m    297\u001b[0m \u001b[39m    \"\"\"\u001b[39;00m\n\u001b[1;32m--> 298\u001b[0m     \u001b[39mreturn\u001b[39;00m _wrapfunc(a, \u001b[39m'\u001b[39;49m\u001b[39mreshape\u001b[39;49m\u001b[39m'\u001b[39;49m, newshape, order\u001b[39m=\u001b[39;49morder)\n",
      "File \u001b[1;32mc:\\Users\\darre\\AppData\\Local\\Programs\\Python\\Python311\\Lib\\site-packages\\numpy\\core\\fromnumeric.py:54\u001b[0m, in \u001b[0;36m_wrapfunc\u001b[1;34m(obj, method, *args, **kwds)\u001b[0m\n\u001b[0;32m     52\u001b[0m bound \u001b[39m=\u001b[39m \u001b[39mgetattr\u001b[39m(obj, method, \u001b[39mNone\u001b[39;00m)\n\u001b[0;32m     53\u001b[0m \u001b[39mif\u001b[39;00m bound \u001b[39mis\u001b[39;00m \u001b[39mNone\u001b[39;00m:\n\u001b[1;32m---> 54\u001b[0m     \u001b[39mreturn\u001b[39;00m _wrapit(obj, method, \u001b[39m*\u001b[39;49margs, \u001b[39m*\u001b[39;49m\u001b[39m*\u001b[39;49mkwds)\n\u001b[0;32m     56\u001b[0m \u001b[39mtry\u001b[39;00m:\n\u001b[0;32m     57\u001b[0m     \u001b[39mreturn\u001b[39;00m bound(\u001b[39m*\u001b[39margs, \u001b[39m*\u001b[39m\u001b[39m*\u001b[39mkwds)\n",
      "File \u001b[1;32mc:\\Users\\darre\\AppData\\Local\\Programs\\Python\\Python311\\Lib\\site-packages\\numpy\\core\\fromnumeric.py:43\u001b[0m, in \u001b[0;36m_wrapit\u001b[1;34m(obj, method, *args, **kwds)\u001b[0m\n\u001b[0;32m     41\u001b[0m \u001b[39mexcept\u001b[39;00m \u001b[39mAttributeError\u001b[39;00m:\n\u001b[0;32m     42\u001b[0m     wrap \u001b[39m=\u001b[39m \u001b[39mNone\u001b[39;00m\n\u001b[1;32m---> 43\u001b[0m result \u001b[39m=\u001b[39m \u001b[39mgetattr\u001b[39;49m(asarray(obj), method)(\u001b[39m*\u001b[39;49margs, \u001b[39m*\u001b[39;49m\u001b[39m*\u001b[39;49mkwds)\n\u001b[0;32m     44\u001b[0m \u001b[39mif\u001b[39;00m wrap:\n\u001b[0;32m     45\u001b[0m     \u001b[39mif\u001b[39;00m \u001b[39mnot\u001b[39;00m \u001b[39misinstance\u001b[39m(result, mu\u001b[39m.\u001b[39mndarray):\n",
      "\u001b[1;31mValueError\u001b[0m: cannot reshape array of size 101 into shape (8,18)"
     ]
    }
   ],
   "source": [
    "lon = plotDf[\"Longitude\"].unique()\n",
    "lat = plotDf[\"Latitude\"].unique()\n",
    "np.reshape(plotDf[\"Exergy\"], (lat.size, lon.size))"
   ]
  }
 ],
 "metadata": {
  "kernelspec": {
   "display_name": "Python 3",
   "language": "python",
   "name": "python3"
  },
  "language_info": {
   "codemirror_mode": {
    "name": "ipython",
    "version": 3
   },
   "file_extension": ".py",
   "mimetype": "text/x-python",
   "name": "python",
   "nbconvert_exporter": "python",
   "pygments_lexer": "ipython3",
   "version": "3.11.1"
  },
  "orig_nbformat": 4
 },
 "nbformat": 4,
 "nbformat_minor": 2
}
