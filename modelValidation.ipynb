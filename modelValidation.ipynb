{
 "cells": [
  {
   "cell_type": "code",
   "execution_count": 1,
   "metadata": {},
   "outputs": [],
   "source": [
    "#Import some libraries\n",
    "import numpy as np\n",
    "import pandas as pd\n",
    "# from thermoModel import *\n",
    "from generateThermocline import generateThermocline\n",
    "from maxDepth import maxDepth\n",
    "from julianToNormal import jd_to_date\n",
    "import matplotlib.pyplot as plt\n",
    "from Net import Net\n",
    "from global_land_mask import globe\n",
    "import os\n",
    "import xarray\n",
    "import torch\n",
    "import geopandas as gpd\n",
    "import geodatasets"
   ]
  },
  {
   "cell_type": "code",
   "execution_count": 57,
   "metadata": {},
   "outputs": [],
   "source": [
    "# setup global variables\n",
    "latRange = [-90,90]                # range of world latitudes (degrees)\n",
    "longRange = [-180,180]             # range of world longitudes (degrees)\n",
    "dateRange = [2455562.5, 2455927.5]  # range of dates (julian time/days)\n",
    "\n",
    "areaIncr = 20        # world area grid (degrees)\n",
    "depthIncr = 1       # depth increment (meter)\n",
    "dateIncr = 300        # date increment (days)\n",
    "tempCutoff = 1      # thermocline temperature cutoff (K or degC)\n",
    "\n",
    "latArray = np.arange(latRange[0], latRange[1], areaIncr)\n",
    "longArray = np.arange(longRange[0], longRange[1], areaIncr)\n",
    "dateArray = np.arange(dateRange[0], dateRange[1], dateIncr)"
   ]
  },
  {
   "cell_type": "code",
   "execution_count": 38,
   "metadata": {},
   "outputs": [],
   "source": [
    "def generateThermoclineActual(df, lat, long, thermoActualPath):\n",
    "    err = 0.1\n",
    "    filtered_df = df.loc[(df['Latitude'].between(lat - err, lat + err)) \n",
    "            & (df['Longitude'].between(long - err, long + err)), ['Depth', 'Temperature']]\n",
    "    # not enough data to filter by time as well\n",
    "    sorted_df = filtered_df.sort_values(by=['Depth'])\n",
    "    \n",
    "    fig, ax = plt.subplots()\n",
    "    ax.plot(sorted_df[\"Temperature\"], sorted_df[\"Depth\"])  \n",
    "    ax.set_xlabel('Temperature ($^\\circ$C)')\n",
    "    ax.set_ylabel('Depth (m)')\n",
    "    ax.set_title(f'Thermocline Actual for Lat: {lat:,.1f} Long: {long:,.1f}')\n",
    "    ax.invert_yaxis()\n",
    "    plt.savefig(f'{thermoActualPath}/ThermoclineActual_{lat:,.1f}_{long:,.1f}.png')\n",
    "    plt.close('all')\n",
    "\n",
    "    return sorted_df"
   ]
  },
  {
   "cell_type": "code",
   "execution_count": 25,
   "metadata": {},
   "outputs": [],
   "source": [
    "def generateSurfaceTempActualMap(df, surfaceTempActualPath, date):\n",
    "    plotDf = df.loc[(df['Depth'] == 0),['Longitude', 'Latitude', 'Temperature']]\n",
    "    \n",
    "    plotColor = \"lightgrey\"\n",
    "    opacity = 0.5\n",
    "    worldmap = gpd.read_file(geodatasets.get_path(\"naturalearth.land\"))\n",
    "\n",
    "    # Creating axes and plotting world map\n",
    "    fig, ax = plt.subplots(figsize=(12, 6))\n",
    "    worldmap.plot(color=plotColor, ax=ax)\n",
    "\n",
    "    # Plotting our Impact Energy data with a color map\n",
    "    x = plotDf['Longitude']\n",
    "    y = plotDf['Latitude']\n",
    "    z = plotDf['Temperature']\n",
    "    plt.scatter(x, y, c=z, alpha=opacity, marker=\".\")\n",
    "    plt.colorbar(label='Surface Temp ($^\\circ$C)')\n",
    "    plt.title(\"Global Surface Temperature Map\")\n",
    "    plt.xlabel(\"Longitude ($^\\circ$)\")\n",
    "    plt.ylabel(\"Latitude ($^\\circ$)\")\n",
    "\n",
    "    year,month,day = jd_to_date(date)\n",
    "    plt.savefig(f'{surfaceTempActualPath}/SurfaceTempActual_{int(month)}-{int(day)}-{str(int(year))[2:]}.png')\n",
    "    plt.close('all')\n"
   ]
  },
  {
   "cell_type": "code",
   "execution_count": 40,
   "metadata": {},
   "outputs": [
    {
     "name": "stdout",
     "output_type": "stream",
     "text": [
      "Importing training data....\n",
      "Creating directories....\n",
      "Directories Created Successfully\n",
      "Importing model....\n"
     ]
    },
    {
     "data": {
      "text/plain": [
       "Net(\n",
       "  (fc1): Linear(in_features=4, out_features=100, bias=True)\n",
       "  (fc2): Linear(in_features=100, out_features=100, bias=True)\n",
       "  (fc3): Linear(in_features=100, out_features=100, bias=True)\n",
       "  (fc4): Linear(in_features=100, out_features=100, bias=True)\n",
       "  (fc5): Linear(in_features=100, out_features=100, bias=True)\n",
       "  (fc6): Linear(in_features=100, out_features=1, bias=True)\n",
       ")"
      ]
     },
     "execution_count": 40,
     "metadata": {},
     "output_type": "execute_result"
    }
   ],
   "source": [
    "# import training dataset for depth checking\n",
    "print(\"Importing training data....\")\n",
    "train_dataset = \"practiceData3Years.nc\"\n",
    "ds = xarray.open_dataset(train_dataset)\n",
    "df = ds.to_dataframe()\n",
    "\n",
    "# create results directories if it doesn't exist\n",
    "print(\"Creating directories....\")\n",
    "resultsPath = \"ResultsTest\"\n",
    "thermoPath = resultsPath + \"/ThermoclinePlots\"\n",
    "thermoActualPath = resultsPath + \"/ThermoclineActualPlots\"\n",
    "surfaceTempActualPath = resultsPath + \"/SurfaceTempActualMaps\"\n",
    "if not os.path.exists(resultsPath):\n",
    "    os.makedirs(resultsPath)\n",
    "    os.makedirs(thermoPath)\n",
    "    os.makedirs(thermoActualPath)\n",
    "    os.makedirs(surfaceTempActualPath)\n",
    "    print(\"Directories Created Successfully\")\n",
    "\n",
    "# import ML model\n",
    "print(\"Importing model....\")\n",
    "modelPath = \"OTEC_miniBatchState.pth\"\n",
    "net = Net()\n",
    "net.load_state_dict(torch.load(modelPath))\n",
    "net.eval()"
   ]
  },
  {
   "cell_type": "code",
   "execution_count": 65,
   "metadata": {},
   "outputs": [
    {
     "data": {
      "text/plain": [
       "1927.1"
      ]
     },
     "execution_count": 65,
     "metadata": {},
     "output_type": "execute_result"
    }
   ],
   "source": [
    "err = 0.5\n",
    "lat = -32\n",
    "long = 108\n",
    "filtered_df = df.loc[(df['Latitude'].between(lat - err, lat + err)) \n",
    "        & (df['Longitude'].between(long - err, long + err)),['Depth']]\n",
    "filtered_df.max()[\"Depth\"]"
   ]
  },
  {
   "cell_type": "code",
   "execution_count": 58,
   "metadata": {},
   "outputs": [
    {
     "name": "stdout",
     "output_type": "stream",
     "text": [
      "Entering main loop....\n",
      "Generating data for 2455562.5....\n",
      "Generating thermoclines for -32.0_108.0_2455562.5....\n",
      "Generating data for 2455576.5....\n",
      "Generating thermoclines for -32.0_108.0_2455576.5....\n",
      "Generating data for 2455590.5....\n",
      "Generating thermoclines for -32.0_108.0_2455590.5....\n",
      "Generating data for 2455604.5....\n",
      "Generating thermoclines for -32.0_108.0_2455604.5....\n",
      "Generating data for 2455618.5....\n",
      "Generating thermoclines for -32.0_108.0_2455618.5....\n",
      "Generating data for 2455632.5....\n",
      "Generating thermoclines for -32.0_108.0_2455632.5....\n",
      "Generating data for 2455646.5....\n",
      "Generating thermoclines for -32.0_108.0_2455646.5....\n",
      "Generating data for 2455660.5....\n",
      "Generating thermoclines for -32.0_108.0_2455660.5....\n",
      "Generating data for 2455674.5....\n",
      "Generating thermoclines for -32.0_108.0_2455674.5....\n",
      "Generating data for 2455688.5....\n",
      "Generating thermoclines for -32.0_108.0_2455688.5....\n",
      "Generating data for 2455702.5....\n",
      "Generating thermoclines for -32.0_108.0_2455702.5....\n",
      "Generating data for 2455716.5....\n",
      "Generating thermoclines for -32.0_108.0_2455716.5....\n",
      "Generating data for 2455730.5....\n",
      "Generating thermoclines for -32.0_108.0_2455730.5....\n",
      "Generating data for 2455744.5....\n",
      "Generating thermoclines for -32.0_108.0_2455744.5....\n",
      "Generating data for 2455758.5....\n",
      "Generating thermoclines for -32.0_108.0_2455758.5....\n",
      "Generating data for 2455772.5....\n",
      "Generating thermoclines for -32.0_108.0_2455772.5....\n",
      "Generating data for 2455786.5....\n",
      "Generating thermoclines for -32.0_108.0_2455786.5....\n",
      "Generating data for 2455800.5....\n",
      "Generating thermoclines for -32.0_108.0_2455800.5....\n",
      "Generating data for 2455814.5....\n",
      "Generating thermoclines for -32.0_108.0_2455814.5....\n",
      "Generating data for 2455828.5....\n",
      "Generating thermoclines for -32.0_108.0_2455828.5....\n",
      "Generating data for 2455842.5....\n",
      "Generating thermoclines for -32.0_108.0_2455842.5....\n",
      "Generating data for 2455856.5....\n",
      "Generating thermoclines for -32.0_108.0_2455856.5....\n",
      "Generating data for 2455870.5....\n",
      "Generating thermoclines for -32.0_108.0_2455870.5....\n",
      "Generating data for 2455884.5....\n",
      "Generating thermoclines for -32.0_108.0_2455884.5....\n",
      "Generating data for 2455898.5....\n",
      "Generating thermoclines for -32.0_108.0_2455898.5....\n",
      "Generating data for 2455912.5....\n",
      "Generating thermoclines for -32.0_108.0_2455912.5....\n",
      "Generating data for 2455926.5....\n",
      "Generating thermoclines for -32.0_108.0_2455926.5....\n"
     ]
    }
   ],
   "source": [
    "# main for loop to generate thermocline and get exergy for each time\n",
    "print(\"Entering main loop....\") \n",
    "for date in dateArray:\n",
    "    # generate data for each location \n",
    "    print(f\"Generating data for {date:.1f}....\")\n",
    "    for lat in latArray:\n",
    "        for long in longArray:\n",
    "            # land mask\n",
    "            if not globe.is_land(lat, long):\n",
    "                # get maximum depth of location from database\n",
    "                maxDep = maxDepth(df, lat, long, areaIncr) \n",
    "\n",
    "                # generate thermocline for location using ML model\n",
    "                print(f\"Generating thermoclines for {lat:.1f}_{long:.1f}_{date:.1f}....\") \n",
    "                tempDf = generateThermocline(lat, long, date, maxDep, depthIncr, net, thermoPath, True)\n",
    "                tempDfActual = generateThermoclineActual(df, lat, long, thermoActualPath)\n",
    "    \n",
    "    # generateSurfaceTempActualMap(df, surfaceTempActualPath, date)"
   ]
  }
 ],
 "metadata": {
  "kernelspec": {
   "display_name": "Python 3",
   "language": "python",
   "name": "python3"
  },
  "language_info": {
   "codemirror_mode": {
    "name": "ipython",
    "version": 3
   },
   "file_extension": ".py",
   "mimetype": "text/x-python",
   "name": "python",
   "nbconvert_exporter": "python",
   "pygments_lexer": "ipython3",
   "version": "3.11.1"
  },
  "orig_nbformat": 4
 },
 "nbformat": 4,
 "nbformat_minor": 2
}
