{
 "cells": [
  {
   "cell_type": "code",
   "execution_count": 29,
   "metadata": {},
   "outputs": [],
   "source": [
    "import numpy as np\n",
    "import CoolProp as CP\n",
    "import matplotlib.pyplot as plt\n",
    "from CoolProp.HumidAirProp import HAPropsSI\n",
    "from CoolProp.CoolProp import PropsSI\n",
    "import pandas as pd\n",
    "from generateThermocline import generateThermocline\n",
    "import torch"
   ]
  },
  {
   "cell_type": "code",
   "execution_count": 30,
   "metadata": {},
   "outputs": [],
   "source": [
    "# 1 degree = 111139 m\n",
    "def degreeToMeters(deg):\n",
    "    return deg*111139"
   ]
  },
  {
   "cell_type": "code",
   "execution_count": 31,
   "metadata": {},
   "outputs": [],
   "source": [
    "# find dead state of thermocline\n",
    "def findDeadStateIndex(tempDf, tempCutoff):\n",
    "    TLast = tempDf.min()[\"Temperature\"]\n",
    "    for i in range(len(tempDf)):\n",
    "        if tempDf.loc[i, \"Temperature\"] < (TLast + tempCutoff):\n",
    "            break\n",
    "\n",
    "    return i"
   ]
  },
  {
   "cell_type": "code",
   "execution_count": 32,
   "metadata": {},
   "outputs": [],
   "source": [
    "# calculates exergy for a chunk of water in the ocean from depth 1 to depth 2\n",
    "def calculateSingleExergy(depthIncr, TTop, TDead, areaIncrMeter):\n",
    "    P0 = 101325 # Pa\n",
    "    rho = 1000     # kg/m^3\n",
    "    hTop = PropsSI('H', 'T', TTop+273.153, 'P', P0, 'Water')      #enthalpy of surface water [J/kg]\n",
    "    hDead = PropsSI('H', 'T', TDead+273.153, 'P', P0, 'Water')       #minimum possible enthalpy of the surface water [J/kg]\n",
    "    sTop = PropsSI('S', 'T', TTop+273.153, 'P', P0, 'Water')      #entropy of surface water [J/kg-K]\n",
    "    sDead = PropsSI('S', 'T', TDead+273.153, 'P', P0, 'Water')       #minimum possible entropy of the surface water [J/kg-K]\n",
    "\n",
    "    specificExergy = (hTop - hDead) - (TDead+273.153)*(sTop - sDead) \n",
    "    exergy = specificExergy * depthIncr * rho * areaIncrMeter**2\n",
    "\n",
    "    return exergy"
   ]
  },
  {
   "cell_type": "code",
   "execution_count": 33,
   "metadata": {},
   "outputs": [],
   "source": [
    "# calculates total exergy for current location and returns total exergy + thermocline depth/dead state depth based on criteria\n",
    "def calculateTotalExergy(tempDf, depthIncr, areaIncr, tempCutoff):\n",
    "    totalExergy = 0\n",
    "    areaIncrMeter = degreeToMeters(areaIncr)\n",
    "    deadStateIndex = findDeadStateIndex(tempDf, tempCutoff)\n",
    "    for i in range(deadStateIndex): # not including dead state because dead state to itself = 0 exergy\n",
    "        TTop = tempDf.loc[i, \"Temperature\"]\n",
    "        TDead = tempDf.loc[deadStateIndex, \"Temperature\"]\n",
    "    \n",
    "        exergy = calculateSingleExergy(depthIncr, TTop, TDead, areaIncrMeter)\n",
    "        totalExergy += exergy\n",
    "\n",
    "    return totalExergy, deadStateIndex"
   ]
  },
  {
   "cell_type": "code",
   "execution_count": 4,
   "metadata": {},
   "outputs": [
    {
     "name": "stdout",
     "output_type": "stream",
     "text": [
      "      Depth  Temperature\n",
      "0         0    27.245529\n",
      "1         1    27.142408\n",
      "2         2    27.039690\n",
      "3         3    26.937351\n",
      "4         4    26.835415\n",
      "...     ...          ...\n",
      "1995   1995     3.510484\n",
      "1996   1996     3.509444\n",
      "1997   1997     3.508404\n",
      "1998   1998     3.507365\n",
      "1999   1999     3.506326\n",
      "\n",
      "[2000 rows x 2 columns]\n"
     ]
    }
   ],
   "source": [
    "from pipeline import Net\n",
    "modelPath = \"OTEC_miniBatchState.pth\"\n",
    "net = Net()\n",
    "net.load_state_dict(torch.load(modelPath))\n",
    "net.eval()\n",
    "tempDf = generateThermocline(0,0,2455562.5,2000,1,net,\"Results/ThermoclinePlots\")\n",
    "print(tempDf)\n",
    "# totalExergy = calculateTotalExergy(tempDf, 1, 5, 2)\n"
   ]
  },
  {
   "cell_type": "code",
   "execution_count": 34,
   "metadata": {},
   "outputs": [
    {
     "data": {
      "text/plain": [
       "6.500275135040283"
      ]
     },
     "execution_count": 34,
     "metadata": {},
     "output_type": "execute_result"
    }
   ],
   "source": [
    "findDeadStateIndex(tempDf, 3)\n",
    "tempDf.loc[613,\"Temperature\"]"
   ]
  },
  {
   "cell_type": "code",
   "execution_count": 35,
   "metadata": {},
   "outputs": [
    {
     "data": {
      "text/plain": [
       "(8.192142186781014e+19, 613)"
      ]
     },
     "execution_count": 35,
     "metadata": {},
     "output_type": "execute_result"
    }
   ],
   "source": [
    "calculateTotalExergy(tempDf, 1, 5, 3)"
   ]
  },
  {
   "cell_type": "code",
   "execution_count": 26,
   "metadata": {},
   "outputs": [
    {
     "name": "stdout",
     "output_type": "stream",
     "text": [
      "76729670.36462615\n"
     ]
    }
   ],
   "source": [
    "# print(calculateSingleExergy(0, 1, 1, 27.245529, 27.142408, 5))\n",
    "P0 = 101325 # Pa\n",
    "rho = 1000     # kg/m^3\n",
    "hTop = PropsSI('H', 'T', 27.2455+273.153, 'P', P0, 'Water')      #enthalpy of surface water [J/kg]\n",
    "hDead = PropsSI('H', 'T', 6.5+273.153, 'P', P0, 'Water')       #minimum possible enthalpy of the surface water [J/kg]\n",
    "sTop = PropsSI('S', 'T', 27.2455+273.153, 'P', P0, 'Water')      #entropy of surface water [J/kg-K]\n",
    "sDead = PropsSI('S', 'T', 6.5+273.153, 'P', P0, 'Water')       #minimum possible entropy of the surface water [J/kg-K]\n",
    "\n",
    "specificExergy = (hTop - hDead) - (6.5+273.153)*(sTop - sDead) \n",
    "# print((hTop - hBot))\n",
    "# print((27.142408+273.153)*(sTop - sBot))\n",
    "print(specificExergy * 1 * 1000 * 5**2)\n",
    "# negative exergy why? **"
   ]
  },
  {
   "cell_type": "code",
   "execution_count": 10,
   "metadata": {},
   "outputs": [
    {
     "data": {
      "text/plain": [
       "-9.770672001842115"
      ]
     },
     "execution_count": 10,
     "metadata": {},
     "output_type": "execute_result"
    }
   ],
   "source": [
    "(114320.97892446494-113898.90306505683)-(27.142408+273.153)*(398.61198050595544-397.1739081282055)"
   ]
  },
  {
   "cell_type": "code",
   "execution_count": 9,
   "metadata": {},
   "outputs": [
    {
     "data": {
      "text/plain": [
       "1.4420593999933673"
      ]
     },
     "execution_count": 9,
     "metadata": {},
     "output_type": "execute_result"
    }
   ],
   "source": [
    "(114.319-113.897-(27.245529+273.153)*(0.3986-0.3972)) *1000"
   ]
  }
 ],
 "metadata": {
  "kernelspec": {
   "display_name": "Python 3",
   "language": "python",
   "name": "python3"
  },
  "language_info": {
   "codemirror_mode": {
    "name": "ipython",
    "version": 3
   },
   "file_extension": ".py",
   "mimetype": "text/x-python",
   "name": "python",
   "nbconvert_exporter": "python",
   "pygments_lexer": "ipython3",
   "version": "3.11.1"
  },
  "orig_nbformat": 4
 },
 "nbformat": 4,
 "nbformat_minor": 2
}
