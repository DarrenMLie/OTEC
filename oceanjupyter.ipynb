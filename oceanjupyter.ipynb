{
 "cells": [
  {
   "cell_type": "code",
   "execution_count": 1,
   "metadata": {},
   "outputs": [],
   "source": [
    "import numpy as np\n",
    "import tensorflow as tf\n",
    "import pandas as pd"
   ]
  },
  {
   "cell_type": "code",
   "execution_count": 2,
   "metadata": {},
   "outputs": [],
   "source": [
    "dataset = pd.read_csv('practiceData.csv')\n",
    "X = dataset.iloc[:, 2:-1].values\n",
    "Y = dataset.iloc[:, -1].values"
   ]
  },
  {
   "cell_type": "code",
   "execution_count": 3,
   "metadata": {},
   "outputs": [],
   "source": [
    "from sklearn.model_selection import train_test_split\n",
    "X_train, X_test, Y_train, Y_test = train_test_split(X, Y, test_size=0.2, random_state=0)"
   ]
  },
  {
   "cell_type": "code",
   "execution_count": 4,
   "metadata": {},
   "outputs": [],
   "source": [
    "from sklearn.preprocessing import StandardScaler\n",
    "sc = StandardScaler()\n",
    "X_train = sc.fit_transform(X_train)\n",
    "X_train = sc.fit_transform(X_train)"
   ]
  },
  {
   "cell_type": "code",
   "execution_count": 5,
   "metadata": {},
   "outputs": [],
   "source": [
    "ann = tf.keras.models.Sequential()\n",
    "ann.add(tf.keras.layers.Dense(units=6, activation='relu'))\n",
    "ann.add(tf.keras.layers.Dense(units=6, activation='relu'))\n",
    "ann.add(tf.keras.layers.Dense(units=1, activation='sigmoid'))"
   ]
  },
  {
   "cell_type": "code",
   "execution_count": 8,
   "metadata": {},
   "outputs": [
    {
     "name": "stdout",
     "output_type": "stream",
     "text": [
      "Epoch 1/20\n",
      "13692/13692 [==============================] - 24s 2ms/step - loss: nan - accuracy: 0.0000e+00\n",
      "Epoch 2/20\n",
      "13692/13692 [==============================] - 22s 2ms/step - loss: nan - accuracy: 0.0000e+00\n",
      "Epoch 3/20\n",
      "13692/13692 [==============================] - 20s 1ms/step - loss: nan - accuracy: 0.0000e+00\n",
      "Epoch 4/20\n",
      "13692/13692 [==============================] - 21s 2ms/step - loss: nan - accuracy: 0.0000e+00\n",
      "Epoch 5/20\n",
      "13692/13692 [==============================] - 21s 2ms/step - loss: nan - accuracy: 0.0000e+00\n",
      "Epoch 6/20\n",
      "13692/13692 [==============================] - 21s 2ms/step - loss: nan - accuracy: 0.0000e+00\n",
      "Epoch 7/20\n",
      "13692/13692 [==============================] - 21s 2ms/step - loss: nan - accuracy: 0.0000e+00\n",
      "Epoch 8/20\n",
      "13692/13692 [==============================] - 21s 2ms/step - loss: nan - accuracy: 0.0000e+00\n",
      "Epoch 9/20\n",
      "13692/13692 [==============================] - 21s 2ms/step - loss: nan - accuracy: 0.0000e+00\n",
      "Epoch 10/20\n",
      "13692/13692 [==============================] - 22s 2ms/step - loss: nan - accuracy: 0.0000e+00\n",
      "Epoch 11/20\n",
      "13692/13692 [==============================] - 24s 2ms/step - loss: nan - accuracy: 0.0000e+00\n",
      "Epoch 12/20\n",
      "13692/13692 [==============================] - 48s 3ms/step - loss: nan - accuracy: 0.0000e+00\n",
      "Epoch 13/20\n",
      "13692/13692 [==============================] - 22s 2ms/step - loss: nan - accuracy: 0.0000e+00\n",
      "Epoch 14/20\n",
      "13692/13692 [==============================] - 23s 2ms/step - loss: nan - accuracy: 0.0000e+00\n",
      "Epoch 15/20\n",
      "13692/13692 [==============================] - 23s 2ms/step - loss: nan - accuracy: 0.0000e+00\n",
      "Epoch 16/20\n",
      "13692/13692 [==============================] - 22s 2ms/step - loss: nan - accuracy: 0.0000e+00\n",
      "Epoch 17/20\n",
      "13692/13692 [==============================] - 23s 2ms/step - loss: nan - accuracy: 0.0000e+00\n",
      "Epoch 18/20\n",
      "13692/13692 [==============================] - 22s 2ms/step - loss: nan - accuracy: 0.0000e+00\n",
      "Epoch 19/20\n",
      "13692/13692 [==============================] - 23s 2ms/step - loss: nan - accuracy: 0.0000e+00\n",
      "Epoch 20/20\n",
      "13692/13692 [==============================] - 23s 2ms/step - loss: nan - accuracy: 0.0000e+00\n"
     ]
    },
    {
     "data": {
      "text/plain": [
       "<keras.callbacks.History at 0x230b03af7c0>"
      ]
     },
     "execution_count": 8,
     "metadata": {},
     "output_type": "execute_result"
    }
   ],
   "source": [
    "ann.compile(optimizer = 'adam', loss = 'categorical_crossentropy', metrics = ['accuracy'])\n",
    "ann.fit(X_train, Y_train, batch_size=32, epochs=20)"
   ]
  },
  {
   "cell_type": "code",
   "execution_count": null,
   "metadata": {},
   "outputs": [],
   "source": []
  },
  {
   "cell_type": "code",
   "execution_count": null,
   "metadata": {},
   "outputs": [],
   "source": []
  },
  {
   "cell_type": "code",
   "execution_count": null,
   "metadata": {},
   "outputs": [],
   "source": []
  }
 ],
 "metadata": {
  "kernelspec": {
   "display_name": "Python 3.10.6 64-bit",
   "language": "python",
   "name": "python3"
  },
  "language_info": {
   "codemirror_mode": {
    "name": "ipython",
    "version": 3
   },
   "file_extension": ".py",
   "mimetype": "text/x-python",
   "name": "python",
   "nbconvert_exporter": "python",
   "pygments_lexer": "ipython3",
   "version": "3.10.6"
  },
  "orig_nbformat": 4,
  "vscode": {
   "interpreter": {
    "hash": "f1510b3a92008b3f5070fd021fb191c959973f7530ec2caf7a69a1c32cf53c3e"
   }
  }
 },
 "nbformat": 4,
 "nbformat_minor": 2
}
