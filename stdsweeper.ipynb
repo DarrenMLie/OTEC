{
 "cells": [
  {
   "cell_type": "code",
   "execution_count": 1,
   "metadata": {},
   "outputs": [],
   "source": [
    "import numpy as np\n",
    "import pandas as pd\n",
    "import matplotlib.pyplot as plt\n",
    "import math"
   ]
  },
  {
   "cell_type": "code",
   "execution_count": 3,
   "metadata": {},
   "outputs": [
    {
     "data": {
      "text/html": [
       "<div>\n",
       "<style scoped>\n",
       "    .dataframe tbody tr th:only-of-type {\n",
       "        vertical-align: middle;\n",
       "    }\n",
       "\n",
       "    .dataframe tbody tr th {\n",
       "        vertical-align: top;\n",
       "    }\n",
       "\n",
       "    .dataframe thead th {\n",
       "        text-align: right;\n",
       "    }\n",
       "</style>\n",
       "<table border=\"1\" class=\"dataframe\">\n",
       "  <thead>\n",
       "    <tr style=\"text-align: right;\">\n",
       "      <th></th>\n",
       "      <th>Probe</th>\n",
       "      <th>Latitude</th>\n",
       "      <th>Longitude</th>\n",
       "      <th>Month</th>\n",
       "      <th>Depth</th>\n",
       "      <th>Temperature</th>\n",
       "    </tr>\n",
       "  </thead>\n",
       "  <tbody>\n",
       "    <tr>\n",
       "      <th>0</th>\n",
       "      <td>animal mounted</td>\n",
       "      <td>53.633301</td>\n",
       "      <td>-161.550003</td>\n",
       "      <td>1</td>\n",
       "      <td>4.0</td>\n",
       "      <td>4.21</td>\n",
       "    </tr>\n",
       "    <tr>\n",
       "      <th>1</th>\n",
       "      <td>animal mounted</td>\n",
       "      <td>53.633301</td>\n",
       "      <td>-161.550003</td>\n",
       "      <td>1</td>\n",
       "      <td>10.0</td>\n",
       "      <td>4.22</td>\n",
       "    </tr>\n",
       "    <tr>\n",
       "      <th>2</th>\n",
       "      <td>animal mounted</td>\n",
       "      <td>53.633301</td>\n",
       "      <td>-161.550003</td>\n",
       "      <td>1</td>\n",
       "      <td>20.0</td>\n",
       "      <td>4.21</td>\n",
       "    </tr>\n",
       "    <tr>\n",
       "      <th>3</th>\n",
       "      <td>animal mounted</td>\n",
       "      <td>53.633301</td>\n",
       "      <td>-161.550003</td>\n",
       "      <td>1</td>\n",
       "      <td>30.0</td>\n",
       "      <td>4.20</td>\n",
       "    </tr>\n",
       "    <tr>\n",
       "      <th>4</th>\n",
       "      <td>animal mounted</td>\n",
       "      <td>53.633301</td>\n",
       "      <td>-161.550003</td>\n",
       "      <td>1</td>\n",
       "      <td>50.0</td>\n",
       "      <td>4.21</td>\n",
       "    </tr>\n",
       "  </tbody>\n",
       "</table>\n",
       "</div>"
      ],
      "text/plain": [
       "            Probe   Latitude   Longitude  Month  Depth  Temperature\n",
       "0  animal mounted  53.633301 -161.550003      1    4.0         4.21\n",
       "1  animal mounted  53.633301 -161.550003      1   10.0         4.22\n",
       "2  animal mounted  53.633301 -161.550003      1   20.0         4.21\n",
       "3  animal mounted  53.633301 -161.550003      1   30.0         4.20\n",
       "4  animal mounted  53.633301 -161.550003      1   50.0         4.21"
      ]
     },
     "execution_count": 3,
     "metadata": {},
     "output_type": "execute_result"
    }
   ],
   "source": [
    "chunk = 100000\n",
    "datafile = 'practiceMonth.csv'\n",
    "#tp = pd.read_csv(datafile, chunksize=chunk,\n",
    "#                 usecols=['Probe', 'Latitude', 'Longitude',\n",
    "#                          'Month', 'Depth', 'Temperature'],\n",
    "#                dtype={'Probe': 'str', 'Latitude': 'float32', 'Longitude': 'float32'})\n",
    "#prac_data = pd.concat(tp, ignore_index=True)\n",
    "# datafile = 'W:\\data\\OTEC\\practiceData3Years.csv'\n",
    "\n",
    "prac_data = pd.read_csv(datafile, usecols=['Probe', 'Latitude', 'Longitude',\n",
    "                          'Month', 'Depth', 'Temperature'],\n",
    "                dtype={'Probe': 'str', 'Latitude': 'float32', 'Longitude': 'float32'})\n",
    "prac_data.dropna(inplace=True)\n",
    "prac_data.head()"
   ]
  },
  {
   "cell_type": "code",
   "execution_count": 5,
   "metadata": {},
   "outputs": [],
   "source": [
    "import xarray\n",
    "# Create xray Dataset from Pandas DataFrame\n",
    "xr = xarray.Dataset.from_dataframe(prac_data)\n",
    "\n",
    "# Save to netCDF\n",
    "xr.to_netcdf('test.nc')\n"
   ]
  },
  {
   "cell_type": "code",
   "execution_count": 8,
   "metadata": {},
   "outputs": [
    {
     "data": {
      "text/html": [
       "<div>\n",
       "<style scoped>\n",
       "    .dataframe tbody tr th:only-of-type {\n",
       "        vertical-align: middle;\n",
       "    }\n",
       "\n",
       "    .dataframe tbody tr th {\n",
       "        vertical-align: top;\n",
       "    }\n",
       "\n",
       "    .dataframe thead th {\n",
       "        text-align: right;\n",
       "    }\n",
       "</style>\n",
       "<table border=\"1\" class=\"dataframe\">\n",
       "  <thead>\n",
       "    <tr style=\"text-align: right;\">\n",
       "      <th></th>\n",
       "      <th>Probe</th>\n",
       "      <th>Latitude</th>\n",
       "      <th>Longitude</th>\n",
       "      <th>Month</th>\n",
       "      <th>Depth</th>\n",
       "      <th>Temperature</th>\n",
       "    </tr>\n",
       "    <tr>\n",
       "      <th>index</th>\n",
       "      <th></th>\n",
       "      <th></th>\n",
       "      <th></th>\n",
       "      <th></th>\n",
       "      <th></th>\n",
       "      <th></th>\n",
       "    </tr>\n",
       "  </thead>\n",
       "  <tbody>\n",
       "    <tr>\n",
       "      <th>0</th>\n",
       "      <td>animal mounted</td>\n",
       "      <td>53.633301</td>\n",
       "      <td>-161.550003</td>\n",
       "      <td>1</td>\n",
       "      <td>4.0</td>\n",
       "      <td>4.21</td>\n",
       "    </tr>\n",
       "    <tr>\n",
       "      <th>1</th>\n",
       "      <td>animal mounted</td>\n",
       "      <td>53.633301</td>\n",
       "      <td>-161.550003</td>\n",
       "      <td>1</td>\n",
       "      <td>10.0</td>\n",
       "      <td>4.22</td>\n",
       "    </tr>\n",
       "    <tr>\n",
       "      <th>2</th>\n",
       "      <td>animal mounted</td>\n",
       "      <td>53.633301</td>\n",
       "      <td>-161.550003</td>\n",
       "      <td>1</td>\n",
       "      <td>20.0</td>\n",
       "      <td>4.21</td>\n",
       "    </tr>\n",
       "    <tr>\n",
       "      <th>3</th>\n",
       "      <td>animal mounted</td>\n",
       "      <td>53.633301</td>\n",
       "      <td>-161.550003</td>\n",
       "      <td>1</td>\n",
       "      <td>30.0</td>\n",
       "      <td>4.20</td>\n",
       "    </tr>\n",
       "    <tr>\n",
       "      <th>4</th>\n",
       "      <td>animal mounted</td>\n",
       "      <td>53.633301</td>\n",
       "      <td>-161.550003</td>\n",
       "      <td>1</td>\n",
       "      <td>50.0</td>\n",
       "      <td>4.21</td>\n",
       "    </tr>\n",
       "  </tbody>\n",
       "</table>\n",
       "</div>"
      ],
      "text/plain": [
       "                Probe   Latitude   Longitude  Month  Depth  Temperature\n",
       "index                                                                  \n",
       "0      animal mounted  53.633301 -161.550003      1    4.0         4.21\n",
       "1      animal mounted  53.633301 -161.550003      1   10.0         4.22\n",
       "2      animal mounted  53.633301 -161.550003      1   20.0         4.21\n",
       "3      animal mounted  53.633301 -161.550003      1   30.0         4.20\n",
       "4      animal mounted  53.633301 -161.550003      1   50.0         4.21"
      ]
     },
     "execution_count": 8,
     "metadata": {},
     "output_type": "execute_result"
    }
   ],
   "source": [
    "# import netCDF4 as nc\n",
    "# fn = 'test.nc'\n",
    "# ds = nc.Dataset(fn)\n",
    "# df = ds.to_dataframe()\n",
    "# df.head()\n",
    "\n",
    "# opening .nc file\n",
    "ds = xarray.open_dataset('test.nc')\n",
    "\n",
    "# convert to pandas dataframe\n",
    "df = ds.to_dataframe()\n",
    "df.head()\n"
   ]
  },
  {
   "cell_type": "code",
   "execution_count": 21,
   "metadata": {},
   "outputs": [],
   "source": [
    "# prefilter the prac_data to save space (optional)\n",
    "# prac_data = prac_data[prac_data['Probe'].isin(probes)]\n",
    "# prac_data = prac_data.loc[(minDep < prac_data['Depth']) & (prac_data['Depth'] < maxDep)]\n",
    "# prac_data = prac_data.loc[(minLat < prac_data['Latitude']) & (prac_data['Latitude'] < maxLat)]\n",
    "# prac_data = prac_data.loc[(minLong < prac_data['Longitude']) & (prac_data['Longitude'] < maxLong)]\n",
    "# prac_data.head()\n",
    "# prac_data.shape"
   ]
  },
  {
   "cell_type": "code",
   "execution_count": 41,
   "metadata": {},
   "outputs": [
    {
     "data": {
      "text/plain": [
       "6025.45"
      ]
     },
     "execution_count": 41,
     "metadata": {},
     "output_type": "execute_result"
    }
   ],
   "source": [
    "max(prac_data['Depth'])"
   ]
  },
  {
   "cell_type": "code",
   "execution_count": 50,
   "metadata": {},
   "outputs": [],
   "source": [
    "num_bins = 100\n",
    "minDep = 0\n",
    "maxDep = math.ceil(max(prac_data['Depth']))\n",
    "minLong = -70\n",
    "maxLong = -60\n",
    "minLat = 30\n",
    "maxLat = 40\n",
    "depthchunk = 15\n",
    "areachunk = 10\n",
    "depthLimit = 1500\n",
    "#list of probes ['animal mounted', 'CTD', 'XCTD', 'drifting buoy', 'glider', 'moored buoy', 'bottle/rosette/net', 'profiling float', 'towed CTD', 'XBT']\n",
    "probes = ['CTD', 'XCTD', 'drifting buoy', 'glider', 'moored buoy', 'bottle/rosette/net', 'profiling float', 'towed CTD']"
   ]
  },
  {
   "cell_type": "code",
   "execution_count": 51,
   "metadata": {},
   "outputs": [
    {
     "data": {
      "text/plain": [
       "Text(0.5, 1.0, 'Lat')"
      ]
     },
     "execution_count": 51,
     "metadata": {},
     "output_type": "execute_result"
    },
    {
     "data": {
      "image/png": "[encoded data removed]",
      "text/plain": [
       "<Figure size 640x480 with 1 Axes>"
      ]
     },
     "metadata": {},
     "output_type": "display_data"
    },
    {
     "data": {
      "image/png": "[encoded data removed]",
      "text/plain": [
       "<Figure size 640x480 with 1 Axes>"
      ]
     },
     "metadata": {},
     "output_type": "display_data"
    }
   ],
   "source": [
    "# check if data exists\n",
    "temp_data = prac_data\n",
    "# temp_data = temp_data[temp_data['Longitude'].between(minLong, maxLong)]\n",
    "# temp_data = temp_data[temp_data['Latitude'].between(20, 30)]\n",
    "# print(temp_data.head())\n",
    "\n",
    "plt.figure()\n",
    "plt.hist(temp_data['Longitude'], 100)\n",
    "plt.xlabel('Long')\n",
    "plt.ylabel('Frequency')\n",
    "plt.title(f'Long')\n",
    "          \n",
    "plt.figure()\n",
    "plt.hist(temp_data['Latitude'], 100)\n",
    "plt.xlabel('Lat')\n",
    "plt.ylabel('Frequency')\n",
    "plt.title(f'Lat')"
   ]
  },
  {
   "cell_type": "code",
   "execution_count": 52,
   "metadata": {},
   "outputs": [],
   "source": [
    "def generatePlots(num_bins, minDep, maxDep, minLong, maxLong, minLat, maxLat, depthchunk, areachunk, depthLimit):\n",
    "    sigmas = []\n",
    "    temps = []\n",
    "    path = 'C:/Users/darre/Desktop/Jobs/Warsinger/OTEC/Results'\n",
    "    for lat in range(minLat, maxLat, areachunk):\n",
    "        for long in range(minLong, maxLong, areachunk):\n",
    "            for dep in range(0, maxDep, depthchunk):\n",
    "                if dep >= depthLimit:\n",
    "                    break                \n",
    "                temp_data = prac_data\n",
    "                temp_data = temp_data[temp_data['Probe'].isin(probes)]\n",
    "                temp_data = temp_data[temp_data['Depth'].between(dep, dep+depthchunk)]\n",
    "                temp_data = temp_data[temp_data['Latitude'].between(lat, lat+areachunk)]\n",
    "                temp_data = temp_data[temp_data['Longitude'].between(long, long+areachunk)]\n",
    "                if temp_data.empty:\n",
    "                    continue  \n",
    "                # temp_data.to_csv(\n",
    "                #     f'{path}/Data_long_{long}_{long+areachunk}_lat_{lat}_{lat+areachunk}_dep_{dep}_{dep+depthchunk}.csv')\n",
    "\n",
    "                # x is depth, y is temperature\n",
    "                y = temp_data[\"Temperature\"]\n",
    "                # plt.hist(y, 100)\n",
    "                # plt.xlabel('Temperature (C)')\n",
    "                # plt.ylabel('Frequency')\n",
    "                # plt.title(f'Long: {long}-{long+areachunk}, Lat: {lat} to {lat+areachunk}, Dep: {dep} to {dep+depthchunk} Histogram\\n',\n",
    "                #           fontweight=\"bold\")\n",
    "                # plt.savefig(\n",
    "                #     f'{path}/Histogram_long_{long}_{long+areachunk}_lat_{lat}_{lat+areachunk}_dep_{dep}_{dep+depthchunk}.png')\n",
    "                # plt.clf()\n",
    "\n",
    "                sigmas.append(np.std(temp_data[\"Temperature\"]))\n",
    "                temps.append(y)\n",
    "\n",
    "            # Creating box and sigma plots\n",
    "            # temperature boxplots for each depth range\n",
    "            if len(temps) != 0:\n",
    "                plt.boxplot(temps)\n",
    "                plt.xlabel('Depth Range')\n",
    "                plt.ylabel('Temperature (C)')\n",
    "                plt.title(f'Temp Boxplot for Lat:{lat} to {lat+areachunk} Long:{long} to {long+areachunk}')\n",
    "                plt.savefig(\n",
    "                    f'{path}/Boxplot_long_{long}_{long+areachunk}_lat_{lat}_{lat+areachunk}.png')\n",
    "                plt.clf()\n",
    "\n",
    "            # sigma plots for each depth range\n",
    "            if len(sigmas) != 0:\n",
    "                plt.plot(sigmas)\n",
    "                plt.xlabel('Depth Range')\n",
    "                plt.ylabel('Standard Deviation')\n",
    "                plt.title(f'Temp STD Curve for Lat:{lat} to {lat+areachunk} Long:{long} to {long+areachunk}')\n",
    "                plt.savefig(\n",
    "                    f'{path}/STDCurve_long_{long}_{long+areachunk}_lat_{lat}_{lat+areachunk}.png')\n",
    "                plt.clf()\n",
    "            sigmas = []\n",
    "            temps = []"
   ]
  },
  {
   "cell_type": "code",
   "execution_count": 53,
   "metadata": {},
   "outputs": [
    {
     "data": {
      "text/plain": [
       "<Figure size 640x480 with 0 Axes>"
      ]
     },
     "metadata": {},
     "output_type": "display_data"
    }
   ],
   "source": [
    "generatePlots(num_bins, minDep, maxDep, minLong, maxLong, minLat, maxLat, depthchunk, areachunk, depthLimit)"
   ]
  },
  {
   "cell_type": "code",
   "execution_count": 18,
   "metadata": {},
   "outputs": [],
   "source": [
    "# inputs = lat, long, month, depth\n",
    "# use builtin pandas functions to filter data and get std\n",
    "# compile data into a csv based on inputs\n",
    "# use square area to get latitue and longitude range"
   ]
  }
 ],
 "metadata": {
  "kernelspec": {
   "display_name": "Python 3 (ipykernel)",
   "language": "python",
   "name": "python3"
  },
  "language_info": {
   "codemirror_mode": {
    "name": "ipython",
    "version": 3
   },
   "file_extension": ".py",
   "mimetype": "text/x-python",
   "name": "python",
   "nbconvert_exporter": "python",
   "pygments_lexer": "ipython3",
   "version": "3.10.6"
  },
  "vscode": {
   "interpreter": {
    "hash": "f1510b3a92008b3f5070fd021fb191c959973f7530ec2caf7a69a1c32cf53c3e"
   }
  }
 },
 "nbformat": 4,
 "nbformat_minor": 4
}
