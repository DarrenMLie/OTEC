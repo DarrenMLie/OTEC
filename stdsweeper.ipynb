{
 "cells": [
  {
   "cell_type": "code",
   "execution_count": 1,
   "metadata": {},
   "outputs": [],
   "source": [
    "import numpy as np\n",
    "import pandas as pd\n",
    "import matplotlib.pyplot as plt"
   ]
  },
  {
   "cell_type": "code",
   "execution_count": 2,
   "metadata": {},
   "outputs": [
    {
     "data": {
      "text/html": [
       "<div>\n",
       "<style scoped>\n",
       "    .dataframe tbody tr th:only-of-type {\n",
       "        vertical-align: middle;\n",
       "    }\n",
       "\n",
       "    .dataframe tbody tr th {\n",
       "        vertical-align: top;\n",
       "    }\n",
       "\n",
       "    .dataframe thead th {\n",
       "        text-align: right;\n",
       "    }\n",
       "</style>\n",
       "<table border=\"1\" class=\"dataframe\">\n",
       "  <thead>\n",
       "    <tr style=\"text-align: right;\">\n",
       "      <th></th>\n",
       "      <th>Probe</th>\n",
       "      <th>Latitude</th>\n",
       "      <th>Longitude</th>\n",
       "      <th>Month</th>\n",
       "      <th>Depth</th>\n",
       "      <th>Temperature</th>\n",
       "    </tr>\n",
       "  </thead>\n",
       "  <tbody>\n",
       "    <tr>\n",
       "      <th>0</th>\n",
       "      <td>animal mounted</td>\n",
       "      <td>53.633301</td>\n",
       "      <td>-161.550003</td>\n",
       "      <td>1</td>\n",
       "      <td>4.0</td>\n",
       "      <td>4.21</td>\n",
       "    </tr>\n",
       "    <tr>\n",
       "      <th>1</th>\n",
       "      <td>animal mounted</td>\n",
       "      <td>53.633301</td>\n",
       "      <td>-161.550003</td>\n",
       "      <td>1</td>\n",
       "      <td>10.0</td>\n",
       "      <td>4.22</td>\n",
       "    </tr>\n",
       "    <tr>\n",
       "      <th>2</th>\n",
       "      <td>animal mounted</td>\n",
       "      <td>53.633301</td>\n",
       "      <td>-161.550003</td>\n",
       "      <td>1</td>\n",
       "      <td>20.0</td>\n",
       "      <td>4.21</td>\n",
       "    </tr>\n",
       "    <tr>\n",
       "      <th>3</th>\n",
       "      <td>animal mounted</td>\n",
       "      <td>53.633301</td>\n",
       "      <td>-161.550003</td>\n",
       "      <td>1</td>\n",
       "      <td>30.0</td>\n",
       "      <td>4.20</td>\n",
       "    </tr>\n",
       "    <tr>\n",
       "      <th>4</th>\n",
       "      <td>animal mounted</td>\n",
       "      <td>53.633301</td>\n",
       "      <td>-161.550003</td>\n",
       "      <td>1</td>\n",
       "      <td>50.0</td>\n",
       "      <td>4.21</td>\n",
       "    </tr>\n",
       "  </tbody>\n",
       "</table>\n",
       "</div>"
      ],
      "text/plain": [
       "            Probe   Latitude   Longitude  Month  Depth  Temperature\n",
       "0  animal mounted  53.633301 -161.550003      1    4.0         4.21\n",
       "1  animal mounted  53.633301 -161.550003      1   10.0         4.22\n",
       "2  animal mounted  53.633301 -161.550003      1   20.0         4.21\n",
       "3  animal mounted  53.633301 -161.550003      1   30.0         4.20\n",
       "4  animal mounted  53.633301 -161.550003      1   50.0         4.21"
      ]
     },
     "execution_count": 2,
     "metadata": {},
     "output_type": "execute_result"
    }
   ],
   "source": [
    "chunk = 100000\n",
    "datafile = 'practiceMonth.csv'\n",
    "tp = pd.read_csv(datafile, chunksize=chunk,\n",
    "                 usecols=['Probe', 'Latitude', 'Longitude',\n",
    "                          'Month', 'Depth', 'Temperature'],\n",
    "                dtype={'Probe': 'str', 'Latitude': 'float32', 'Longitude': 'float32'})\n",
    "prac_data = pd.concat(tp, ignore_index=True)\n",
    "prac_data.dropna(inplace=True)\n",
    "prac_data.head()"
   ]
  },
  {
   "cell_type": "code",
   "execution_count": 3,
   "metadata": {},
   "outputs": [],
   "source": [
    "# prac_data['Probe'].unique()"
   ]
  },
  {
   "cell_type": "code",
   "execution_count": 4,
   "metadata": {},
   "outputs": [],
   "source": [
    "# prac_data.shape"
   ]
  },
  {
   "cell_type": "code",
   "execution_count": 5,
   "metadata": {},
   "outputs": [],
   "source": [
    "num_bins = 100\n",
    "minDep = 0\n",
    "maxDep = 100000\n",
    "minLong = -1000  \n",
    "maxLong = 1000\n",
    "minLat = -1000\n",
    "maxLat = 1000\n",
    "depthchunk = 10\n",
    "areachunk = 1\n",
    "#list of probes ['animal mounted', 'CTD', 'XCTD', 'drifting buoy', 'glider', 'moored buoy', 'bottle/rosette/net', 'profiling float', 'towed CTD', 'XBT']\n",
    "probes = ['animal mounted', 'CTD', 'XCTD', 'drifting buoy', 'glider', 'moored buoy', 'bottle/rosette/net', 'profiling float', 'towed CTD']"
   ]
  },
  {
   "cell_type": "code",
   "execution_count": 6,
   "metadata": {},
   "outputs": [],
   "source": [
    "# prac_data[prac_data['Probe'].isin(probes)].shape\n",
    "# prac_data.loc[(minDep < prac_data['Depth']) & (prac_data['Depth'] < maxDep)].shape\n",
    "# prac_data.loc[(minLat < prac_data['Latitude']) & (prac_data['Latitude'] < maxLat)].shape\n",
    "# prac_data.loc[(minLong < prac_data['Longitude']) & (prac_data['Longitude'] < maxLong)].shape"
   ]
  },
  {
   "cell_type": "code",
   "execution_count": 7,
   "metadata": {},
   "outputs": [
    {
     "data": {
      "text/plain": [
       "(4282957, 6)"
      ]
     },
     "execution_count": 7,
     "metadata": {},
     "output_type": "execute_result"
    }
   ],
   "source": [
    "prac_data = prac_data[prac_data['Probe'].isin(probes)]\n",
    "prac_data = prac_data.loc[(minDep < prac_data['Depth']) & (prac_data['Depth'] < maxDep)]\n",
    "prac_data = prac_data.loc[(minLat < prac_data['Latitude']) & (prac_data['Latitude'] < maxLat)]\n",
    "prac_data = prac_data.loc[(minLong < prac_data['Longitude']) & (prac_data['Longitude'] < maxLong)]\n",
    "prac_data.head()\n",
    "\n",
    "prac_data.shape"
   ]
  },
  {
   "cell_type": "code",
   "execution_count": 8,
   "metadata": {},
   "outputs": [],
   "source": [
    "# prac_data['Probe'].unique()"
   ]
  },
  {
   "cell_type": "code",
   "execution_count": 10,
   "metadata": {},
   "outputs": [
    {
     "name": "stdout",
     "output_type": "stream",
     "text": [
      "            Probe   Latitude   Longitude  Month  Depth  Temperature\n",
      "0  animal mounted  53.633301 -161.550003      1    4.0         4.21\n",
      "1  animal mounted  53.633301 -161.550003      1   10.0         4.22\n",
      "2  animal mounted  53.633301 -161.550003      1   20.0         4.21\n",
      "3  animal mounted  53.633301 -161.550003      1   30.0         4.20\n",
      "4  animal mounted  53.633301 -161.550003      1   50.0         4.21\n"
     ]
    },
    {
     "data": {
      "text/plain": [
       "<Figure size 640x480 with 0 Axes>"
      ]
     },
     "metadata": {},
     "output_type": "display_data"
    }
   ],
   "source": [
    "# histogram generation test\n",
    "temp_data = prac_data\n",
    "# temp_data = temp_data[temp_data['Probe'] == 'bottle/rosette/net']\n",
    "temp_data = temp_data[temp_data['Depth'].between(0, 1000000000)]\n",
    "temp_data = temp_data[temp_data['Longitude'].between(minLong, maxLong)]\n",
    "temp_data = temp_data[temp_data['Latitude'].between(minLat, maxLat)]\n",
    "print(temp_data.head())\n",
    "temp_data.to_csv(\n",
    "    f'Data.csv')\n",
    "# x is depth, y is temperature\n",
    "# print(prac_data)\n",
    "y = temp_data[\"Temperature\"]\n",
    "# sigmas.append(np.std(temp_data[\"Temperature\"]))\n",
    "#print (y)\n",
    "plt.hist(y, 1000)\n",
    "plt.xlabel('Temperature (C)')\n",
    "plt.ylabel('Frequency')\n",
    "plt.title(f'Temperature Histogram for All Locations (practiceMonth)\\n', fontweight=\"bold\")\n",
    "plt.savefig(\n",
    "    f'Histogram.png')\n",
    "plt.clf()\n"
   ]
  },
  {
   "cell_type": "code",
   "execution_count": 14,
   "metadata": {},
   "outputs": [],
   "source": [
    "# max(temp_data['Depth'])"
   ]
  },
  {
   "cell_type": "code",
   "execution_count": null,
   "metadata": {},
   "outputs": [],
   "source": [
    "sigmas = []\n",
    "temps = []\n",
    "for lat in range(minLat, maxLat, areachunk):\n",
    "    for long in range(minLong, maxLong, areachunk):\n",
    "        for dep in range(0, maxDep, depthchunk):\n",
    "\n",
    "            temp_data = temp_data[temp_data['Depth'].between(dep, dep+depthchunk)]\n",
    "            temp_data = temp_data[temp_data['Latitude'].between(lat, lat+areachunk)]\n",
    "            temp_data = temp_data[temp_data['Longitude'].between(long, long+areachunk)]\n",
    "            temp_data.to_csv(\n",
    "                f'Data_long_{long}_{long+areachunk}_lat_{lat}_{lat+areachunk}_dep_{dep}_{dep+depthchunk}.csv')\n",
    "\n",
    "            # x is depth, y is temperature\n",
    "            y = temp_data[\"Temperature\"]\n",
    "            plt.hist(y, 100)\n",
    "            plt.xlabel('Temperature (C)')\n",
    "            plt.ylabel('Frequency')\n",
    "            plt.title(f'Long: {long}-{long+areachunk}, Lat: {lat}-{lat+areachunk}, Dep: {dep}-{dep+depthchunk} Histogram\\n',\n",
    "                      fontweight=\"bold\")\n",
    "            plt.savefig(\n",
    "                f'Histogram_long_{long}_{long+areachunk}_lat_{lat}_{lat+areachunk}_dep_{dep}_{dep+depthchunk}.png')\n",
    "            plt.clf()\n",
    "            \n",
    "            sigmas.append(np.std(temp_data[\"Temperature\"]))\n",
    "            temps += y\n",
    "        # Creating plot\n",
    "        plt.boxplot(temps)\n",
    "        plt.xlabel('Temperature (C)')\n",
    "        plt.ylabel('Frequency')\n",
    "        plt.title(f'Temperature Boxplot for Lat:{lat}-{lat+areachunk} Long:{long}-{long+areachunk}')\n",
    "        plt.savefig(\n",
    "            f'Boxplot.png')\n",
    "        plt.clf()\n",
    "        \n",
    "        # print(sigmas)\n",
    "        plt.plot(sigmas)\n",
    "        plt.xlabel('Depth Range')\n",
    "        plt.ylabel('Standard Deviation')\n",
    "        plt.title(f'Temperature STD Curve for Lat:{lat}-{lat+areachunk} Long:{long}-{long+areachunk}')\n",
    "        plt.savefig(\n",
    "            f'STDCurve.png')\n",
    "        \n",
    "        sigmas = []\n",
    "        temps = []\n",
    "\n"
   ]
  },
  {
   "cell_type": "code",
   "execution_count": null,
   "metadata": {},
   "outputs": [],
   "source": [
    "# inputs = lat, long, month, depth\n",
    "# use builtin pandas functions to filter data and get std\n",
    "# compile data into a csv based on inputs\n",
    "# use square area to get latitue and longitude range\n",
    "\n"
   ]
  }
 ],
 "metadata": {
  "kernelspec": {
   "display_name": "Python 3 (ipykernel)",
   "language": "python",
   "name": "python3"
  },
  "language_info": {
   "codemirror_mode": {
    "name": "ipython",
    "version": 3
   },
   "file_extension": ".py",
   "mimetype": "text/x-python",
   "name": "python",
   "nbconvert_exporter": "python",
   "pygments_lexer": "ipython3",
   "version": "3.10.6"
  },
  "vscode": {
   "interpreter": {
    "hash": "f1510b3a92008b3f5070fd021fb191c959973f7530ec2caf7a69a1c32cf53c3e"
   }
  }
 },
 "nbformat": 4,
 "nbformat_minor": 4
}
